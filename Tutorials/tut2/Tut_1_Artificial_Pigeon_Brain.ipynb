{
  "cells": [
    {
      "cell_type": "markdown",
      "metadata": {
        "id": "t_7PSrzbdQbT"
      },
      "source": [
        "# Tutorial 1 - Artificial Pigeon Brain \n",
        "\n",
        "## Last Lecture\n",
        "* Biological Neural Networks (BNNs)\n",
        "* Artificial Neurons Networks (ANNs)\n",
        "* Forward Pass\n",
        "* Activation Functions\n",
        "* Mean Squared Error and Cross-Entropy\n",
        "* Gradient Descent and Backpropagation\n",
        "* Nonlinearity\n",
        "\n",
        "Sample code:"
      ]
    },
    {
      "cell_type": "markdown",
      "metadata": {
        "id": "5vk1HIgTbbKt"
      },
      "source": [
        "#### Example: 1-layer ANN with MSE and Gradient Descent\n"
      ]
    },
    {
      "cell_type": "code",
      "execution_count": 2,
      "metadata": {
        "id": "8tmvmSv7bSvm"
      },
      "outputs": [],
      "source": [
        "import math\n",
        "\n",
        "# data (first column is the bias term)\n",
        "x = [[1, 0.1,-0.2], \n",
        "     [1,-0.1, 0.9], \n",
        "     [1, 1.2, 0.1], \n",
        "     [1, 1.1, 1.5]]\n",
        "\n",
        "# labels (desired output)\n",
        "t = [0, 0, 0, 1]\n",
        "\n",
        "# initial weights\n",
        "w = [1, -1, 1]\n",
        "\n",
        "iterations = 50\n",
        "learning = 10\n",
        "\n",
        "def simple_ann_MSE(x, w, t, iterations, learning):\n",
        "\n",
        "    E = []\n",
        "    \n",
        "    #iterate over epochs\n",
        "    for ii in range(iterations):\n",
        "        err = [] \n",
        "        y = []\n",
        "        #iterate over all the samples x\n",
        "        for n in range(len(x)):\n",
        "            v = 0\n",
        "            # compute w.x\n",
        "            for p in range(len(x[0])):\n",
        "                v = v + x[n][p]*w[p]\n",
        "            \n",
        "            #sigmoidal activation    \n",
        "            y.append(1 / (1 + math.e**(-v))) \n",
        "            \n",
        "            #MSE classification error\n",
        "            err.append((y[n]-t[n])**2)\n",
        "            \n",
        "            #gradient descent to compute new weights\n",
        "            for p in range(len(w)):\n",
        "                d = x[n][p]*(y[n]-t[n])*(1-y[n])*(y[n])\n",
        "                w[p] = w[p] - learning*d\n",
        "                \n",
        "        #sum up classification error\n",
        "        E.append(sum(err)/len(x))\n",
        "    \n",
        "    return (y, w, E)\n",
        "\n",
        "(y, w, E) = simple_ann_MSE(x, w, t, iterations, learning)"
      ]
    },
    {
      "cell_type": "code",
      "execution_count": 3,
      "metadata": {
        "id": "TncfaRORb5tN"
      },
      "outputs": [
        {
          "name": "stdout",
          "output_type": "stream",
          "text": [
            "[0.0006555859880223744, 0.052128479309599574, 0.04486688739303947, 0.9484229735074757]\n"
          ]
        }
      ],
      "source": [
        "print(y)"
      ]
    },
    {
      "cell_type": "markdown",
      "metadata": {
        "id": "Sv7VdSNxcFWT"
      },
      "source": [
        "#### Example: 1-layer ANN with Cross-Entropy and Gradient Descent"
      ]
    },
    {
      "cell_type": "code",
      "execution_count": 4,
      "metadata": {
        "id": "ytnwNDitduho"
      },
      "outputs": [],
      "source": [
        "def simple_ann_CE(x, w, t, iterations, learning):\n",
        "\n",
        "    E = []\n",
        "    \n",
        "    #iterate over epochs\n",
        "    for ii in range(iterations):\n",
        "        err = [] \n",
        "        y = []\n",
        "        \n",
        "        #iterate over all the samples x\n",
        "        for n in range(len(x)):\n",
        "            v = 0\n",
        "            \n",
        "            #compute w.x\n",
        "            for p in range(len(x[0])):\n",
        "                v = v + x[n][p]*w[p]\n",
        "            \n",
        "            #sigmoidal activation\n",
        "            y.append(1 / (1 + math.e**(-v))) \n",
        "            \n",
        "            #cross-entropy classification error\n",
        "            err.append(-t[n]*math.log(y[n]+ 0.000001) - (1-t[n])*math.log(1-y[n]+ 0.000001))\n",
        "\n",
        "            #gradient descent to compute new weights\n",
        "            for p in range(len(w)):\n",
        "                d = x[n][p]*(y[n]-t[n]) #cross_entropy\n",
        "                w[p] = w[p] - learning*d\n",
        "                \n",
        "        #sum up classification error\n",
        "        E.append(sum(err))\n",
        "    \n",
        "    return (y, w, E)\n",
        "\n",
        "(y, w, E) = simple_ann_CE(x, w, t, iterations, learning)"
      ]
    },
    {
      "cell_type": "code",
      "execution_count": 5,
      "metadata": {
        "id": "MnsiF6FDdvM7"
      },
      "outputs": [
        {
          "name": "stdout",
          "output_type": "stream",
          "text": [
            "[1.5220611182206673e-12, 9.152891744525407e-08, 0.00020457583967445263, 0.9995046474331183]\n",
            "[0.3505461395371315, 6.805376705476292, 26.564614243221254, 4.524869189402009, 0.00581592932568457, 0.004531305013205282, 0.0037402867346008617, 0.003200165906455406, 0.0028065871303956874, 0.0025065651988698794, 0.0022701268143129998, 0.0020789625276250003, 0.0019212227892200567, 0.0017888843530261722, 0.0016763134028960054, 0.0015794335299080592, 0.0014952200461149775, 0.0014213800173908835, 0.0013561428005760547, 0.001298118861471155, 0.0012462021759714142, 0.0011995012467585734, 0.0011572893800816282, 0.001118968213772658, 0.0010840405428184413, 0.0010520897843389828, 0.0010227642597937382, 0.0009957650231825878, 0.0009708363340984405, 0.0009477581274454128, 0.0009263400073189873, 0.0009064164163366016, 0.0008878427201236448, 0.0008704920106039989, 0.0008542524785172298, 0.0008390252401733997, 0.000824722529291096, 0.0008112661842396662, 0.0007985863758108651, 0.0007866205320193084, 0.0007753124251897709, 0.000764611393434522, 0.0007544716739748014, 0.0007448518299858864, 0.0007357142559979797, 0.0007270247495661308, 0.0007187521390707735, 0.0007108679592477776, 0.0007033461674488022, 0.0006961628947981837]\n"
          ]
        }
      ],
      "source": [
        "print(y)\n",
        "print(E)"
      ]
    },
    {
      "cell_type": "markdown",
      "metadata": {
        "id": "dVrJJw84dbiJ"
      },
      "source": [
        "### Exploring the Iris dataset\n",
        "\n",
        "Let us modify the above code to work with the iris data set.\n",
        "\n",
        "To begin, load the iris data into Google Colab. Last time we had some difficulty with this, so it's suggested that you use Chrome or Chromium. Another approach to load the iris data is shown below:"
      ]
    },
    {
      "cell_type": "code",
      "execution_count": 6,
      "metadata": {
        "id": "38Qu2LlAIDlQ"
      },
      "outputs": [],
      "source": [
        "# use sklearn.datasets to load iris data\n",
        "from sklearn.datasets import load_iris\n",
        "features, labels = load_iris(return_X_y=True)"
      ]
    },
    {
      "cell_type": "markdown",
      "metadata": {
        "id": "dCcmOIFyIbge"
      },
      "source": [
        "The iris data has 150 samples spread across three classes: \n",
        "1. Iris-setosa, \n",
        "2. Iris-versicolor,\n",
        "3. Iris-virginica. \n",
        "\n",
        "There are three features used: \n",
        "1. sepal length in cm\n",
        "2. sepal width in cm\n",
        "3. petal length in cm\n",
        "4. petal width in cm\n",
        "\n",
        "To keep things simple, let us pick two of the classes and perform binary classification with our sample code. We will select **Iris-setosa** and **Iris-versicolor** to start:"
      ]
    },
    {
      "cell_type": "code",
      "execution_count": 7,
      "metadata": {
        "id": "Ved09UvOz9Wd"
      },
      "outputs": [
        {
          "data": {
            "text/plain": [
              "array([[5.1, 3.5, 1.4, 0.2],\n",
              "       [4.9, 3. , 1.4, 0.2],\n",
              "       [4.7, 3.2, 1.3, 0.2],\n",
              "       [4.6, 3.1, 1.5, 0.2],\n",
              "       [5. , 3.6, 1.4, 0.2],\n",
              "       [5.4, 3.9, 1.7, 0.4],\n",
              "       [4.6, 3.4, 1.4, 0.3],\n",
              "       [5. , 3.4, 1.5, 0.2],\n",
              "       [4.4, 2.9, 1.4, 0.2],\n",
              "       [4.9, 3.1, 1.5, 0.1],\n",
              "       [5.4, 3.7, 1.5, 0.2],\n",
              "       [4.8, 3.4, 1.6, 0.2],\n",
              "       [4.8, 3. , 1.4, 0.1],\n",
              "       [4.3, 3. , 1.1, 0.1],\n",
              "       [5.8, 4. , 1.2, 0.2],\n",
              "       [5.7, 4.4, 1.5, 0.4],\n",
              "       [5.4, 3.9, 1.3, 0.4],\n",
              "       [5.1, 3.5, 1.4, 0.3],\n",
              "       [5.7, 3.8, 1.7, 0.3],\n",
              "       [5.1, 3.8, 1.5, 0.3],\n",
              "       [5.4, 3.4, 1.7, 0.2],\n",
              "       [5.1, 3.7, 1.5, 0.4],\n",
              "       [4.6, 3.6, 1. , 0.2],\n",
              "       [5.1, 3.3, 1.7, 0.5],\n",
              "       [4.8, 3.4, 1.9, 0.2],\n",
              "       [5. , 3. , 1.6, 0.2],\n",
              "       [5. , 3.4, 1.6, 0.4],\n",
              "       [5.2, 3.5, 1.5, 0.2],\n",
              "       [5.2, 3.4, 1.4, 0.2],\n",
              "       [4.7, 3.2, 1.6, 0.2],\n",
              "       [4.8, 3.1, 1.6, 0.2],\n",
              "       [5.4, 3.4, 1.5, 0.4],\n",
              "       [5.2, 4.1, 1.5, 0.1],\n",
              "       [5.5, 4.2, 1.4, 0.2],\n",
              "       [4.9, 3.1, 1.5, 0.2],\n",
              "       [5. , 3.2, 1.2, 0.2],\n",
              "       [5.5, 3.5, 1.3, 0.2],\n",
              "       [4.9, 3.6, 1.4, 0.1],\n",
              "       [4.4, 3. , 1.3, 0.2],\n",
              "       [5.1, 3.4, 1.5, 0.2],\n",
              "       [5. , 3.5, 1.3, 0.3],\n",
              "       [4.5, 2.3, 1.3, 0.3],\n",
              "       [4.4, 3.2, 1.3, 0.2],\n",
              "       [5. , 3.5, 1.6, 0.6],\n",
              "       [5.1, 3.8, 1.9, 0.4],\n",
              "       [4.8, 3. , 1.4, 0.3],\n",
              "       [5.1, 3.8, 1.6, 0.2],\n",
              "       [4.6, 3.2, 1.4, 0.2],\n",
              "       [5.3, 3.7, 1.5, 0.2],\n",
              "       [5. , 3.3, 1.4, 0.2],\n",
              "       [7. , 3.2, 4.7, 1.4],\n",
              "       [6.4, 3.2, 4.5, 1.5],\n",
              "       [6.9, 3.1, 4.9, 1.5],\n",
              "       [5.5, 2.3, 4. , 1.3],\n",
              "       [6.5, 2.8, 4.6, 1.5],\n",
              "       [5.7, 2.8, 4.5, 1.3],\n",
              "       [6.3, 3.3, 4.7, 1.6],\n",
              "       [4.9, 2.4, 3.3, 1. ],\n",
              "       [6.6, 2.9, 4.6, 1.3],\n",
              "       [5.2, 2.7, 3.9, 1.4],\n",
              "       [5. , 2. , 3.5, 1. ],\n",
              "       [5.9, 3. , 4.2, 1.5],\n",
              "       [6. , 2.2, 4. , 1. ],\n",
              "       [6.1, 2.9, 4.7, 1.4],\n",
              "       [5.6, 2.9, 3.6, 1.3],\n",
              "       [6.7, 3.1, 4.4, 1.4],\n",
              "       [5.6, 3. , 4.5, 1.5],\n",
              "       [5.8, 2.7, 4.1, 1. ],\n",
              "       [6.2, 2.2, 4.5, 1.5],\n",
              "       [5.6, 2.5, 3.9, 1.1],\n",
              "       [5.9, 3.2, 4.8, 1.8],\n",
              "       [6.1, 2.8, 4. , 1.3],\n",
              "       [6.3, 2.5, 4.9, 1.5],\n",
              "       [6.1, 2.8, 4.7, 1.2],\n",
              "       [6.4, 2.9, 4.3, 1.3],\n",
              "       [6.6, 3. , 4.4, 1.4],\n",
              "       [6.8, 2.8, 4.8, 1.4],\n",
              "       [6.7, 3. , 5. , 1.7],\n",
              "       [6. , 2.9, 4.5, 1.5],\n",
              "       [5.7, 2.6, 3.5, 1. ],\n",
              "       [5.5, 2.4, 3.8, 1.1],\n",
              "       [5.5, 2.4, 3.7, 1. ],\n",
              "       [5.8, 2.7, 3.9, 1.2],\n",
              "       [6. , 2.7, 5.1, 1.6],\n",
              "       [5.4, 3. , 4.5, 1.5],\n",
              "       [6. , 3.4, 4.5, 1.6],\n",
              "       [6.7, 3.1, 4.7, 1.5],\n",
              "       [6.3, 2.3, 4.4, 1.3],\n",
              "       [5.6, 3. , 4.1, 1.3],\n",
              "       [5.5, 2.5, 4. , 1.3],\n",
              "       [5.5, 2.6, 4.4, 1.2],\n",
              "       [6.1, 3. , 4.6, 1.4],\n",
              "       [5.8, 2.6, 4. , 1.2],\n",
              "       [5. , 2.3, 3.3, 1. ],\n",
              "       [5.6, 2.7, 4.2, 1.3],\n",
              "       [5.7, 3. , 4.2, 1.2],\n",
              "       [5.7, 2.9, 4.2, 1.3],\n",
              "       [6.2, 2.9, 4.3, 1.3],\n",
              "       [5.1, 2.5, 3. , 1.1],\n",
              "       [5.7, 2.8, 4.1, 1.3],\n",
              "       [6.3, 3.3, 6. , 2.5],\n",
              "       [5.8, 2.7, 5.1, 1.9],\n",
              "       [7.1, 3. , 5.9, 2.1],\n",
              "       [6.3, 2.9, 5.6, 1.8],\n",
              "       [6.5, 3. , 5.8, 2.2],\n",
              "       [7.6, 3. , 6.6, 2.1],\n",
              "       [4.9, 2.5, 4.5, 1.7],\n",
              "       [7.3, 2.9, 6.3, 1.8],\n",
              "       [6.7, 2.5, 5.8, 1.8],\n",
              "       [7.2, 3.6, 6.1, 2.5],\n",
              "       [6.5, 3.2, 5.1, 2. ],\n",
              "       [6.4, 2.7, 5.3, 1.9],\n",
              "       [6.8, 3. , 5.5, 2.1],\n",
              "       [5.7, 2.5, 5. , 2. ],\n",
              "       [5.8, 2.8, 5.1, 2.4],\n",
              "       [6.4, 3.2, 5.3, 2.3],\n",
              "       [6.5, 3. , 5.5, 1.8],\n",
              "       [7.7, 3.8, 6.7, 2.2],\n",
              "       [7.7, 2.6, 6.9, 2.3],\n",
              "       [6. , 2.2, 5. , 1.5],\n",
              "       [6.9, 3.2, 5.7, 2.3],\n",
              "       [5.6, 2.8, 4.9, 2. ],\n",
              "       [7.7, 2.8, 6.7, 2. ],\n",
              "       [6.3, 2.7, 4.9, 1.8],\n",
              "       [6.7, 3.3, 5.7, 2.1],\n",
              "       [7.2, 3.2, 6. , 1.8],\n",
              "       [6.2, 2.8, 4.8, 1.8],\n",
              "       [6.1, 3. , 4.9, 1.8],\n",
              "       [6.4, 2.8, 5.6, 2.1],\n",
              "       [7.2, 3. , 5.8, 1.6],\n",
              "       [7.4, 2.8, 6.1, 1.9],\n",
              "       [7.9, 3.8, 6.4, 2. ],\n",
              "       [6.4, 2.8, 5.6, 2.2],\n",
              "       [6.3, 2.8, 5.1, 1.5],\n",
              "       [6.1, 2.6, 5.6, 1.4],\n",
              "       [7.7, 3. , 6.1, 2.3],\n",
              "       [6.3, 3.4, 5.6, 2.4],\n",
              "       [6.4, 3.1, 5.5, 1.8],\n",
              "       [6. , 3. , 4.8, 1.8],\n",
              "       [6.9, 3.1, 5.4, 2.1],\n",
              "       [6.7, 3.1, 5.6, 2.4],\n",
              "       [6.9, 3.1, 5.1, 2.3],\n",
              "       [5.8, 2.7, 5.1, 1.9],\n",
              "       [6.8, 3.2, 5.9, 2.3],\n",
              "       [6.7, 3.3, 5.7, 2.5],\n",
              "       [6.7, 3. , 5.2, 2.3],\n",
              "       [6.3, 2.5, 5. , 1.9],\n",
              "       [6.5, 3. , 5.2, 2. ],\n",
              "       [6.2, 3.4, 5.4, 2.3],\n",
              "       [5.9, 3. , 5.1, 1.8]])"
            ]
          },
          "execution_count": 7,
          "metadata": {},
          "output_type": "execute_result"
        }
      ],
      "source": [
        "features"
      ]
    },
    {
      "cell_type": "code",
      "execution_count": 8,
      "metadata": {
        "id": "dC2-ymA3nTfz"
      },
      "outputs": [
        {
          "data": {
            "text/plain": [
              "array([0, 0, 0, 0, 0, 0, 0, 0, 0, 0, 0, 0, 0, 0, 0, 0, 0, 0, 0, 0, 0, 0,\n",
              "       0, 0, 0, 0, 0, 0, 0, 0, 0, 0, 0, 0, 0, 0, 0, 0, 0, 0, 0, 0, 0, 0,\n",
              "       0, 0, 0, 0, 0, 0, 1, 1, 1, 1, 1, 1, 1, 1, 1, 1, 1, 1, 1, 1, 1, 1,\n",
              "       1, 1, 1, 1, 1, 1, 1, 1, 1, 1, 1, 1, 1, 1, 1, 1, 1, 1, 1, 1, 1, 1,\n",
              "       1, 1, 1, 1, 1, 1, 1, 1, 1, 1, 1, 1, 2, 2, 2, 2, 2, 2, 2, 2, 2, 2,\n",
              "       2, 2, 2, 2, 2, 2, 2, 2, 2, 2, 2, 2, 2, 2, 2, 2, 2, 2, 2, 2, 2, 2,\n",
              "       2, 2, 2, 2, 2, 2, 2, 2, 2, 2, 2, 2, 2, 2, 2, 2, 2, 2])"
            ]
          },
          "execution_count": 8,
          "metadata": {},
          "output_type": "execute_result"
        }
      ],
      "source": [
        "labels"
      ]
    },
    {
      "cell_type": "code",
      "execution_count": 9,
      "metadata": {
        "id": "sj2vXappwiUA"
      },
      "outputs": [],
      "source": [
        "# classification iris-setosa and iris-versicolor\n",
        "import numpy as np\n",
        "\n",
        "indices = np.array(range(0,100))\n",
        "\n",
        "#setup x matrix\n",
        "x = np.zeros((len(indices), 4 + 1))\n",
        "x[:,1:5] = features[indices,:]\n",
        "\n",
        "#add bias column\n",
        "x[:,0] = np.ones(len(indices))\n",
        "\n",
        "#labels\n",
        "t = labels[indices]\n",
        "\n",
        "# initial weights\n",
        "w = np.random.rand(5)\n",
        "\n",
        "iterations = 100\n",
        "learning = 0.0001\n",
        "\n",
        "(y, w, E) = simple_ann_CE(x, w, t, iterations, learning)"
      ]
    },
    {
      "cell_type": "code",
      "execution_count": 10,
      "metadata": {
        "id": "WgPIaMRLzjXC"
      },
      "outputs": [
        {
          "name": "stdout",
          "output_type": "stream",
          "text": [
            "0 0.3963119897734366\n",
            "0 0.41136560338121764\n",
            "0 0.423021982779427\n",
            "0 0.4436918982057032\n",
            "0 0.40376124363199173\n",
            "0 0.42350479865308976\n",
            "0 0.4553482255412808\n",
            "0 0.4079488197521264\n",
            "0 0.4525735488374848\n",
            "0 0.39727543212653266\n",
            "0 0.3734423378749296\n",
            "0 0.4302301909333805\n",
            "0 0.3983842871903567\n",
            "0 0.4233102572154239\n",
            "0 0.322669502764495\n",
            "0 0.3824881871996652\n",
            "0 0.39410654984319243\n",
            "0 0.4071253927626886\n",
            "0 0.37404830767016\n",
            "0 0.4134159032474611\n",
            "0 0.38041035345902346\n",
            "0 0.4300505204725942\n",
            "0 0.4070469708511378\n",
            "0 0.4585653346680029\n",
            "0 0.44387606346302644\n",
            "0 0.4058095479004763\n",
            "0 0.44222706525010635\n",
            "0 0.38293843769155406\n",
            "0 0.37628695918935623\n",
            "0 0.4315158693137225\n",
            "0 0.42191609642357925\n",
            "0 0.3984320413518709\n",
            "0 0.36548108262466267\n",
            "0 0.3510168425278258\n",
            "0 0.40538487060376677\n",
            "0 0.3783943287226792\n",
            "0 0.34240953741464797\n",
            "0 0.3821353329877892\n",
            "0 0.4360734533383767\n",
            "0 0.38681643716428626\n",
            "0 0.40074940722377994\n",
            "0 0.4422515219044986\n",
            "0 0.4352172421992511\n",
            "0 0.47201719239653794\n",
            "0 0.4457656500249804\n",
            "0 0.4215498032749023\n",
            "0 0.3909330002628283\n",
            "0 0.4214642479085562\n",
            "0 0.366606562681747\n",
            "0 0.38544355192106206\n",
            "1 0.623132387692573\n",
            "1 0.6791501733471531\n",
            "1 0.6611111684785831\n",
            "1 0.6912630233376326\n",
            "1 0.6773886470198287\n",
            "1 0.7042508041738107\n",
            "1 0.715629642219227\n",
            "1 0.6543538981763594\n",
            "1 0.6384188115295302\n",
            "1 0.7268968854641815\n",
            "1 0.6577691905221101\n",
            "1 0.7062299927821113\n",
            "1 0.603142283843891\n",
            "1 0.7029943876860346\n",
            "1 0.6667316256669463\n",
            "1 0.6390529242974174\n",
            "1 0.7454598638077782\n",
            "1 0.6300838148529098\n",
            "1 0.7006908497748051\n",
            "1 0.6524010334526777\n",
            "1 0.7808652408483022\n",
            "1 0.6513529221238791\n",
            "1 0.7165894566832051\n",
            "1 0.6760175956522084\n",
            "1 0.6456221167675068\n",
            "1 0.6523128435879074\n",
            "1 0.6591365601716987\n",
            "1 0.7253952723122535\n",
            "1 0.7216539892330442\n",
            "1 0.6077343681522868\n",
            "1 0.659400024003144\n",
            "1 0.6372835348956624\n",
            "1 0.6587298934859386\n",
            "1 0.7664999881473613\n",
            "1 0.7656304312286836\n",
            "1 0.7398866634882807\n",
            "1 0.6831680468079493\n",
            "1 0.6643246865333502\n",
            "1 0.7046047806529214\n",
            "1 0.7058641258295358\n",
            "1 0.7127059860146359\n",
            "1 0.7101501772625132\n",
            "1 0.6682106028693828\n",
            "1 0.6592242667871422\n",
            "1 0.711403204754754\n",
            "1 0.6896454485597883\n",
            "1 0.7052107632410503\n",
            "1 0.672532161454052\n",
            "1 0.6523590999730646\n",
            "1 0.7007070998705569\n"
          ]
        }
      ],
      "source": [
        "for i in range(len(t)):\n",
        "  print(t[i], y[i])"
      ]
    },
    {
      "cell_type": "markdown",
      "metadata": {
        "id": "ZO8CMusz29hQ"
      },
      "source": [
        "We're able to successfully classify iris-setosa and iris-versicolor."
      ]
    },
    {
      "cell_type": "code",
      "execution_count": 11,
      "metadata": {
        "id": "cKtAXhNZJUok"
      },
      "outputs": [],
      "source": [
        "# classification iris-versicolor and iris virginica\n",
        "indices = np.array(range(50,150))\n",
        "\n",
        "#setup x matrix\n",
        "x = np.zeros((len(indices), 4 + 1))\n",
        "x[:,1:5] = features[indices,:]\n",
        "\n",
        "#add bias column\n",
        "x[:,0] = np.ones(len(indices))\n",
        "\n",
        "#labels\n",
        "t = labels[indices]-1\n",
        "\n",
        "# initial weights\n",
        "w = np.random.rand(5)\n",
        "\n",
        "iterations = 100\n",
        "learning = 0.0001\n",
        "\n",
        "\n",
        "(y, w, E) = simple_ann_CE(x, w, t, iterations, learning)"
      ]
    },
    {
      "cell_type": "code",
      "execution_count": 12,
      "metadata": {
        "id": "G5DlhozN2gOW"
      },
      "outputs": [
        {
          "name": "stdout",
          "output_type": "stream",
          "text": [
            "0 0.5283622251565231\n",
            "0 0.5354544334248555\n",
            "0 0.5389870670792535\n",
            "0 0.5320249723368791\n",
            "0 0.5343184247825881\n",
            "0 0.5469302021165937\n",
            "0 0.5433757383600327\n",
            "0 0.5097565625055797\n",
            "0 0.5250865036772564\n",
            "0 0.5323263429022296\n",
            "0 0.5139612580247888\n",
            "0 0.5267394831346511\n",
            "0 0.5075397186217748\n",
            "0 0.5398976329210736\n",
            "0 0.503505860792432\n",
            "0 0.5090057010646714\n",
            "0 0.5435249743957492\n",
            "0 0.5130192822705029\n",
            "0 0.5260425799303499\n",
            "0 0.509863468581275\n",
            "0 0.5490759675802979\n",
            "0 0.5015376037378816\n",
            "0 0.5367421763702108\n",
            "0 0.5282540273718787\n",
            "0 0.5033535350432506\n",
            "0 0.5025219103357106\n",
            "0 0.5131819435773881\n",
            "0 0.5275426512749474\n",
            "0 0.5221297771249436\n",
            "0 0.4805035250549775\n",
            "0 0.49980304462545694\n",
            "0 0.4934950045231245\n",
            "0 0.4953365555848216\n",
            "0 0.5450931808748944\n",
            "0 0.534256602903541\n",
            "0 0.5173041088891593\n",
            "0 0.503674602881802\n",
            "0 0.4997334246448102\n",
            "0 0.5056239273048324\n",
            "0 0.5042174666850235\n",
            "0 0.5186778555078241\n",
            "0 0.5111268699685896\n",
            "0 0.49171667741936553\n",
            "0 0.4828320114672801\n",
            "0 0.5057982040691251\n",
            "0 0.5002766318692399\n",
            "0 0.5010582342851787\n",
            "0 0.48971348918039875\n",
            "0 0.4654940343157469\n",
            "0 0.494935322475295\n",
            "1 0.5702278644533477\n",
            "1 0.5417984870938786\n",
            "1 0.5396953056578822\n",
            "1 0.5478398184217796\n",
            "1 0.5565789303880476\n",
            "1 0.5572216417289542\n",
            "1 0.5451025948180436\n",
            "1 0.5516159836441751\n",
            "1 0.5499272105092045\n",
            "1 0.5572882500487445\n",
            "1 0.530491894789385\n",
            "1 0.5419154055311279\n",
            "1 0.5422054848722125\n",
            "1 0.5528421232020515\n",
            "1 0.5602094367106477\n",
            "1 0.5505595634946366\n",
            "1 0.5502031777204962\n",
            "1 0.5723758298771193\n",
            "1 0.5845804359893857\n",
            "1 0.5427862486959024\n",
            "1 0.5583279987753861\n",
            "1 0.557925511477907\n",
            "1 0.5762146382534333\n",
            "1 0.5374398995153035\n",
            "1 0.5648904984826905\n",
            "1 0.5606544758511897\n",
            "1 0.5385805600548033\n",
            "1 0.5462795840658312\n",
            "1 0.5730751678099621\n",
            "1 0.553469934427115\n",
            "1 0.5663436646491015\n",
            "1 0.5675470909907163\n",
            "1 0.578473696883278\n",
            "1 0.5506491686456757\n",
            "1 0.5768333672827396\n",
            "1 0.5692517156993593\n",
            "1 0.5873123788442662\n",
            "1 0.5728520846617707\n",
            "1 0.5543145378861616\n",
            "1 0.5615149355518383\n",
            "1 0.5806582130141086\n",
            "1 0.5534236074546672\n",
            "1 0.5773946296091502\n",
            "1 0.5921571386486747\n",
            "1 0.5900342743384052\n",
            "1 0.566662960783951\n",
            "1 0.5634601118762571\n",
            "1 0.5691974947016233\n",
            "1 0.5906752341191186\n",
            "1 0.5789640646803418\n"
          ]
        }
      ],
      "source": [
        "for i in range(len(t)):\n",
        "  print(t[i], y[i])"
      ]
    },
    {
      "cell_type": "markdown",
      "metadata": {
        "id": "7iwvTlW43L8h"
      },
      "source": [
        "The performance on the iris-versicolor and iris virginica is not as good. To find out why, we will try to visualize the data."
      ]
    },
    {
      "cell_type": "markdown",
      "metadata": {
        "id": "wb_g2BEdU_Fu"
      },
      "source": [
        "### Visualize Iris Dataset\n",
        "Since the Iris dataset has only 4 inputs we can try to visualize it on a 2-dimensional plane to get a better idea of what is happening."
      ]
    },
    {
      "cell_type": "code",
      "execution_count": 13,
      "metadata": {
        "id": "B6SleB-DVS25"
      },
      "outputs": [
        {
          "data": {
            "image/png": "[encoded data removed]",
            "text/plain": [
              "<Figure size 360x288 with 2 Axes>"
            ]
          },
          "metadata": {
            "needs_background": "light"
          },
          "output_type": "display_data"
        }
      ],
      "source": [
        "#scatter plot of iris-setosa and iris-versicolor\n",
        "import numpy as np\n",
        "from matplotlib import pyplot as plt\n",
        "\n",
        "indices = np.array(range(0,100))\n",
        "\n",
        "selected_features = features[indices,:]\n",
        "selected_labels = labels[indices]\n",
        "\n",
        "feature_name = ['sepal length in cm', 'sepal width in cm', 'petal length in cm', 'petal width in cm']\n",
        "\n",
        "x_index = 0\n",
        "y_index = 1\n",
        "\n",
        "plt.figure(figsize=(5, 4))\n",
        "plt.scatter(selected_features[:,x_index], selected_features[:,y_index], c= selected_labels)\n",
        "plt.colorbar(ticks=[0, 1, 2])\n",
        "plt.xlabel(feature_name[x_index])\n",
        "plt.ylabel(feature_name[y_index])\n",
        "\n",
        "plt.tight_layout()\n",
        "plt.show()"
      ]
    },
    {
      "cell_type": "code",
      "execution_count": 14,
      "metadata": {
        "id": "mcLbUFswvBCE"
      },
      "outputs": [
        {
          "data": {
            "image/png": "[encoded data removed]",
            "text/plain": [
              "<Figure size 360x288 with 2 Axes>"
            ]
          },
          "metadata": {
            "needs_background": "light"
          },
          "output_type": "display_data"
        }
      ],
      "source": [
        "# scatter plot of iris-versicolor and iris virginica\n",
        "import numpy as np\n",
        "from matplotlib import pyplot as plt\n",
        "\n",
        "indices = np.array(range(50,150))\n",
        "\n",
        "selected_features = features[indices,:]\n",
        "selected_labels = labels[indices]\n",
        "\n",
        "feature_name = ['sepal length in cm', 'sepal width in cm', 'petal length in cm', 'petal width in cm']\n",
        "\n",
        "x_index = 0\n",
        "y_index = 1\n",
        "\n",
        "plt.figure(figsize=(5, 4))\n",
        "plt.scatter(selected_features[:,x_index], selected_features[:,y_index], c= selected_labels)\n",
        "plt.colorbar(ticks=[0, 1, 2])\n",
        "plt.xlabel(feature_name[x_index])\n",
        "plt.ylabel(feature_name[y_index])\n",
        "\n",
        "plt.tight_layout()\n",
        "plt.show()"
      ]
    },
    {
      "cell_type": "markdown",
      "metadata": {
        "id": "7Cqsdyg1de8M"
      },
      "source": [
        "### Nonlinear Separation\n",
        "Our 1-layer ANN was only successful one of the binary classification combinations. A 1-layer ANN is unable to handle nonlinear separations (or decisions boundaries). To address this we can introduce a second layer known as a hidden layer. How could we do this?\n",
        "\n",
        "We can just include an additional 1-layer networks as shown in the image below. \n",
        "\n",
        "![alt text](https://miro.medium.com/max/1000/1*sX6T0Y4aa3ARh7IBS_sdqw.png)\n",
        "\n",
        "\n",
        "We would follow the same process as with the 1-layer network:\n",
        "\n",
        "1. write out the equations for the forward pass\n",
        "2. error term can stay the same MSE or Cross-Entropy\n",
        "3. Gradient descent would be applied now to two layers of weights\n",
        "\n",
        "First we would consider the forward pass for a 2-layer ANN. We could use a sigmoidal (logistic) activation function to keep things consistent with our earlier example. Note that the activation function will be applied once on the hidden layer, and also on the output layer.\n",
        "\n",
        "Computing the gradient with respect to the different layers of weights will become more difficult, but still manageable. There are just some additional terms in the chain rule. The second layer weights will be almost identical to what we computed for a 1-layer network, except the input will be the hidden layer activation.\n",
        "\n",
        "Instead of spending the time to compute gradients with each change to the network, which can be a fun mathematical exercise, we will instead focus on using the PyTorch libraries which handle all of this internally."
      ]
    },
    {
      "cell_type": "markdown",
      "metadata": {
        "id": "5g4umO_YStI4"
      },
      "source": [
        "### (Optional) Develop a 2-layer ANN\n",
        "Build a 2-layer network using cross-entropy. Determine the gradients with resepect to the layer 1 and layer 2 weights. How could you validate if the gradients were computed correctly?"
      ]
    },
    {
      "cell_type": "code",
      "execution_count": null,
      "metadata": {
        "id": "xXNbhFSFTJp1"
      },
      "outputs": [],
      "source": [
        "#write code to build a 2-layer network using cross-entropy\n",
        "\n",
        "\n",
        "\n",
        "\n",
        "\n",
        "\n",
        "\n",
        "\n",
        "\n"
      ]
    },
    {
      "cell_type": "markdown",
      "metadata": {
        "id": "JiwXNn3SNZfu"
      },
      "source": [
        "### What is PyTorch?\n",
        "\n",
        "PyTorch is a scientific computing package that builds on the NumPy library to allow for the use of GPUs. It incorporates deep learning capabilities while maximizing flexibility and speed.\n",
        "\n",
        "### PyTorch Basics\n",
        "\n",
        "To use PyTorch you must first import the library\n",
        "\n",
        "\n",
        "\n",
        "\n",
        "\n",
        "\n",
        "\n"
      ]
    },
    {
      "cell_type": "code",
      "execution_count": null,
      "metadata": {
        "id": "TU7EUSNcVN9x"
      },
      "outputs": [],
      "source": [
        "import torch"
      ]
    },
    {
      "cell_type": "markdown",
      "metadata": {
        "id": "2bTAo6LzVJwg"
      },
      "source": [
        "#### Tensors\n",
        "Tensors are n-dimensional arrays that allow that can be used with a GPU to accelerate computing. There are several ways to work with Tensors:"
      ]
    },
    {
      "cell_type": "code",
      "execution_count": null,
      "metadata": {
        "id": "1MuUNQZ3UksM"
      },
      "outputs": [],
      "source": [
        "# initialize a random tensor\n",
        "x = torch.rand(4, 3)\n",
        "print(x)"
      ]
    },
    {
      "cell_type": "code",
      "execution_count": null,
      "metadata": {
        "id": "SmcpRB48VVFe"
      },
      "outputs": [],
      "source": [
        "# initialize a tensor loaded with zeros\n",
        "x = torch.zeros(4, 3)\n",
        "print(x)"
      ]
    },
    {
      "cell_type": "code",
      "execution_count": null,
      "metadata": {
        "id": "LI84uJM-VjyL"
      },
      "outputs": [],
      "source": [
        "# initialized with data entered manually\n",
        "x = torch.tensor([2.1, 4.0, -5.2])\n",
        "print(x)"
      ]
    },
    {
      "cell_type": "code",
      "execution_count": null,
      "metadata": {
        "id": "421on8nnWE3e"
      },
      "outputs": [],
      "source": [
        "# initialized with data from numPy\n",
        "import numpy as np\n",
        "data = np.array([2.1, 4.0, -5.2])\n",
        "print(data)\n",
        "x = torch.tensor(data)\n",
        "print(x)\n",
        "\n",
        "# note you can easily convert fron tensor to numpy\n",
        "x_np = x.numpy()\n",
        "print(x_np)"
      ]
    },
    {
      "cell_type": "markdown",
      "metadata": {
        "id": "R_I8gINJWy1g"
      },
      "source": [
        "### Tensor size and shape"
      ]
    },
    {
      "cell_type": "code",
      "execution_count": null,
      "metadata": {
        "id": "CUCzrV1nW5XA"
      },
      "outputs": [],
      "source": [
        "# obtain size of tensor data structure\n",
        "x = torch.zeros(4, 3)\n",
        "print(x.size())"
      ]
    },
    {
      "cell_type": "markdown",
      "metadata": {
        "id": "cdPIVeeEXFO5"
      },
      "source": [
        "### Operations\n"
      ]
    },
    {
      "cell_type": "code",
      "execution_count": null,
      "metadata": {
        "id": "M5AltppKXUZv"
      },
      "outputs": [],
      "source": [
        "# tensor addition\n",
        "x = torch.rand(4, 3)\n",
        "y = torch.ones(4, 3)\n",
        "print(x + y)"
      ]
    },
    {
      "cell_type": "code",
      "execution_count": null,
      "metadata": {
        "id": "9UsB6YlwX_p2"
      },
      "outputs": [],
      "source": [
        "# tensor multiplication\n",
        "x = torch.rand(4, 3)\n",
        "y = torch.ones(4, 3)\n",
        "print(x * y)"
      ]
    },
    {
      "cell_type": "code",
      "execution_count": null,
      "metadata": {
        "id": "V8W5LZlbXnMu"
      },
      "outputs": [],
      "source": [
        "# Provide output tensor as argument\n",
        "result = torch.ones(4,3)\n",
        "torch.add(x, y, out = result)\n",
        "print(result)"
      ]
    },
    {
      "cell_type": "code",
      "execution_count": null,
      "metadata": {
        "id": "FxDlMlhnYWAN"
      },
      "outputs": [],
      "source": [
        "# resize and reshape tensors\n",
        "x = torch.randn(4, 3)\n",
        "y = x.view(12)\n",
        "z = x.view(-1, 4)  # the size -1 is inferred from other dimensions\n",
        "print(x.size(), y.size(), z.size())"
      ]
    },
    {
      "cell_type": "code",
      "execution_count": null,
      "metadata": {
        "id": "IBcAFWNSZnPE"
      },
      "outputs": [],
      "source": [
        "# convert one element tensor to a Python number\n",
        "x = torch.randn(1)\n",
        "print(x)\n",
        "print(x.item())"
      ]
    },
    {
      "cell_type": "markdown",
      "metadata": {
        "id": "OhBQXibrZy0Z"
      },
      "source": [
        "### Automatic Differentiation\n",
        "\n",
        "The PyTorch autograd package allows for easy computation of derivative. This is handled automatically using a define-by-run framework, which works as you write your code. \n",
        "\n",
        "To enable this feature you need to set the Tensor attribute .required_grat to True, at which point it begins to track all operations performed on it. After your computation have been completed you can call .backward() and all the gradients will be computed for you. The gradient for each tensor will be stored in the tensor attribute .grad.\n",
        "\n",
        "Each tensor also has a .grad_fn attribute which references Function that has created it.\n",
        "\n"
      ]
    },
    {
      "cell_type": "code",
      "execution_count": null,
      "metadata": {
        "id": "bKqBTFK2cRZW"
      },
      "outputs": [],
      "source": [
        "# Example computation of gradients\n",
        "x = torch.rand(4, 3, requires_grad=True)\n",
        "print(x)\n",
        "\n",
        "#perform some operations\n",
        "y = x + 10\n",
        "z = y*y\n",
        "out = z.mean()\n",
        "\n",
        "print(z, out)"
      ]
    },
    {
      "cell_type": "code",
      "execution_count": null,
      "metadata": {
        "id": "6JDr3PgVdGMp"
      },
      "outputs": [],
      "source": [
        "# compute the gradient with respect to the output\n",
        "out.backward()\n",
        "print(x.grad)"
      ]
    },
    {
      "cell_type": "markdown",
      "metadata": {
        "id": "8ntVfJhxUjtN"
      },
      "source": [
        "## Artificial Neural Networks in PyTorch\n",
        "In this example we will train an \"artificial pigeon\" to perform a digit recognition\n",
        "task. That is, we will use the MNIST dataset of hand-written digits, and train\n",
        "the pigeon to **recognize a small digit, namely a digit that is less than 3**.\n",
        "This problem is a **binary classification problem** we want to predict\n",
        "which of two classes an input image is a part of.\n",
        "\n",
        "### 1) Load MNIST Data\n",
        "The MNIST dataset contains hand-written digits that are 28x28=784 pixels large.\n",
        "Here are a few digits in the dataset:\n"
      ]
    },
    {
      "cell_type": "code",
      "execution_count": null,
      "metadata": {
        "id": "FOu8rvDVMpSq"
      },
      "outputs": [],
      "source": [
        "from torchvision import datasets, transforms\n",
        "\n",
        "# load the data\n",
        "mnist_train = datasets.MNIST('data', train=True, download=True)\n",
        "mnist_train = list(mnist_train)[:2000]"
      ]
    },
    {
      "cell_type": "code",
      "execution_count": null,
      "metadata": {
        "id": "U3xCgqcwMvCl"
      },
      "outputs": [],
      "source": [
        "# plot the first 18 images in the training data\n",
        "for k, (image, label) in enumerate(mnist_train[:18]):\n",
        "    plt.subplot(3, 6, k+1)\n",
        "    plt.imshow(image)\n"
      ]
    },
    {
      "cell_type": "markdown",
      "metadata": {
        "id": "F-DcwbkZ3Nlx"
      },
      "source": [
        "### 2) Defining the ANN Forward Pass\n",
        "Here is an implementation of the artificial pigeon brain in PyTorch.\n",
        "Don't worry if this code or the explanations don't make sense yet."
      ]
    },
    {
      "cell_type": "code",
      "execution_count": null,
      "metadata": {
        "id": "1-ueh5jh3I5p"
      },
      "outputs": [],
      "source": [
        "import torch\n",
        "import torch.nn as nn\n",
        "import torch.nn.functional as F\n",
        "from torchvision import datasets, transforms\n",
        "import matplotlib.pyplot as plt # for plotting\n",
        "\n",
        "import torch.optim as optim\n",
        "\n",
        "torch.manual_seed(1) # set the random seed\n",
        "\n",
        "class Pigeon(nn.Module):\n",
        "    def __init__(self):\n",
        "        super(Pigeon, self).__init__()\n",
        "        self.layer1 = nn.Linear(784, 30) # 784 = 28x28 every pixel is a feature\n",
        "        \n",
        "        self.layer2 = nn.Linear(30, 1)\n",
        "    def forward(self, img):\n",
        "        flattened = img.view(-1, 28 * 28)\n",
        "        activation1 = self.layer1(flattened)\n",
        "        activation1 = F.relu(activation1)\n",
        "        activation2 = self.layer2(activation1)\n",
        "        return activation2\n",
        "\n",
        "pigeon = Pigeon()"
      ]
    },
    {
      "cell_type": "markdown",
      "metadata": {
        "id": "hi9lSSOtKhEE"
      },
      "source": [
        "In this network, there are 28x28 = 784 input neurons, to work with our 28x28 pixel images. We have a single output neuron and a hidden layer of 30 neurons.\n",
        "\n",
        "The variable `pigeon.layer1` contains information about the connectivity\n",
        "between the input layer and the hidden layer (stored as a matrix), and the\n",
        "biases (stored as a vector).\n",
        "\n",
        "Similarly, the variable `pigeon.layer2` contains information about the weights\n",
        "between the hidden layer and the output layer, and the bias.\n",
        "\n",
        "The weights and biases adjust during training, so they are called the model's\n",
        "**parameters**."
      ]
    },
    {
      "cell_type": "code",
      "execution_count": null,
      "metadata": {
        "id": "82KQZkDlLx7j"
      },
      "outputs": [],
      "source": [
        "# view parameters\n",
        "for w in pigeon.layer1.parameters():\n",
        "    print(w)"
      ]
    },
    {
      "cell_type": "markdown",
      "metadata": {
        "id": "86ubAvO03eMp"
      },
      "source": [
        "### 3) Test Network Forward Pass\n",
        "Here is an example of using the network to classify whether the\n",
        "image contains a small digit."
      ]
    },
    {
      "cell_type": "code",
      "execution_count": null,
      "metadata": {
        "id": "OtiBP83X247A"
      },
      "outputs": [],
      "source": [
        "# make predictions for the first 10 images in mnist_train\n",
        "img_to_tensor = transforms.ToTensor() #transform the image data into a 28x28 matrix of numbers\n",
        "\n",
        "for k, (image, label) in enumerate(mnist_train[:10]):\n",
        "    inval = img_to_tensor(image)\n",
        "    outval = pigeon(inval)       # find the output activation given input\n",
        "    prob = torch.sigmoid(outval) # turn the activation into a probability\n",
        "    print(prob)"
      ]
    },
    {
      "cell_type": "markdown",
      "metadata": {
        "id": "SHkHYl0aO7ot"
      },
      "source": [
        "Since we haven't trained the network\n",
        "yet, the predicted probability of images containing a small digit \n",
        "is close to half. The \"pigeon\" is unsure.\n",
        "\n",
        "In order for the network to be useful, we need to actually train it, so\n",
        "that the weights are actually meaningful, non-random values."
      ]
    },
    {
      "cell_type": "markdown",
      "metadata": {
        "id": "RiUzssKS3ifv"
      },
      "source": [
        "### 4) Update Parameters using Gradient Descent with Cross-Entropy\n",
        "To update the parameters (weights) we will first use the network to make predictions, then compare the predictions\n",
        "agains the ground truth. To compare the predictions against actual values we'll compute a classification error using the Cross-Entropy equation.\n",
        "\n",
        "The classification error, that is how good or bad the prediction was compared to the actual values is more commonly referred to as the **loss** and Cross-Entropy is the **loss function**. The introduction of a loss function makes our problem a **optimization** problem: what set of parameters minimizes the loss across the training examples?\n",
        "\n",
        "Turning a learning problem into an optimization problem\n",
        "is actually a very subtle but important step in many machine learning tools,\n",
        "because it allows us to use tools from mathematical optimization.\n",
        "\n",
        "That there are **optimizers** that can tune the network parameters for\n",
        "us is also really, really cool. The gradient descent algorithm we derived in the last lecture is one example of an optimizer.\n",
        "\n",
        "For now, we will choose a standard loss function for a binary classification\n",
        "problem: the **binary cross-entropy loss**. We'll also choose\n",
        "a **stochastic gradient descent** optimizer. We'll talk about\n",
        "what these mean later in the course."
      ]
    },
    {
      "cell_type": "code",
      "execution_count": null,
      "metadata": {
        "id": "qZhbr5Bw270k"
      },
      "outputs": [],
      "source": [
        "# simplified training code to train `pigeon` on the \"small digit recognition\" task\n",
        "import torch.optim as optim\n",
        "criterion = nn.BCEWithLogitsLoss()\n",
        "optimizer = optim.SGD(pigeon.parameters(), lr=0.005)"
      ]
    },
    {
      "cell_type": "markdown",
      "metadata": {
        "id": "BtHoiE6AYadE"
      },
      "source": [
        "Now, we can start to train the pigeon network, similar to the way we would train\n",
        "a real pigeon:\n",
        "\n",
        "1. We'll show the network pictures of digits, one by one\n",
        "2. We'll see what the network predicts\n",
        "3. We'll check the loss function for that example digit, comparing the network prediction against the ground truth\n",
        "4. We'll make a small update to the parameters to try and improve the loss for that digit\n",
        "5. We'll continue doing this many times -- let's say 1000 times\n",
        "\n",
        "For simplicity, we'll use 1000 images, and show the network each image only once."
      ]
    },
    {
      "cell_type": "code",
      "execution_count": null,
      "metadata": {
        "id": "LHmT89U0RM3C"
      },
      "outputs": [],
      "source": [
        "for (image, label) in mnist_train[:1000]:\n",
        "    # actual ground truth: is the digit less than 3?\n",
        "    actual = torch.tensor(label < 3).reshape([1,1]).type(torch.FloatTensor)\n",
        "    # pigeon prediction\n",
        "    out = pigeon(img_to_tensor(image)) # step 1-2\n",
        "    # update the parameters based on the loss\n",
        "    loss = criterion(out, actual)      # step 3\n",
        "    loss.backward()                    # step 4 (compute the updates for each parameter)\n",
        "    optimizer.step()                   # step 4 (make the updates for each parameter)\n",
        "    optimizer.zero_grad()              # a clean up step for PyTorch"
      ]
    },
    {
      "cell_type": "markdown",
      "metadata": {
        "id": "JfzAfZiuRQWx"
      },
      "source": [
        "It is very common to run into errors with changing different data types to tensors with the correct shape."
      ]
    },
    {
      "cell_type": "markdown",
      "metadata": {
        "id": "p9Gieq973sDh"
      },
      "source": [
        "### 5) Test Updated Network Forward Pass"
      ]
    },
    {
      "cell_type": "code",
      "execution_count": null,
      "metadata": {
        "id": "N-RgzimS3FEW"
      },
      "outputs": [],
      "source": [
        "# make predictions for the first 10 images in mnist_train\n",
        "for k, (image, label) in enumerate(mnist_train[:10]):\n",
        "    print(label, torch.sigmoid(pigeon(img_to_tensor(image))))"
      ]
    },
    {
      "cell_type": "markdown",
      "metadata": {
        "id": "Otc8_sYjOk1I"
      },
      "source": [
        "Not bad! We'll use the probability 50% as the cutoff for making a \n",
        "discrete prediction. Then, we can compute the accuracy on the 1000\n",
        "images we used to train the network."
      ]
    },
    {
      "cell_type": "markdown",
      "metadata": {
        "id": "-pluL_aN30CC"
      },
      "source": [
        "### 6)a) Validation of Network on Training Data"
      ]
    },
    {
      "cell_type": "code",
      "execution_count": null,
      "metadata": {
        "id": "r-Qq5Bgh4Hx9"
      },
      "outputs": [],
      "source": [
        "# computing the error and accuracy on the training set\n",
        "error = 0\n",
        "for (image, label) in mnist_train[:1000]:\n",
        "    prob = torch.sigmoid(pigeon(img_to_tensor(image)))\n",
        "    if (prob < 0.5 and label < 3) or (prob >= 0.5 and label >= 3):\n",
        "        error += 1\n",
        "print(\"Training Error Rate:\", error/1000)\n",
        "print(\"Training Accuracy:\", 1 - error/1000)"
      ]
    },
    {
      "cell_type": "markdown",
      "metadata": {
        "id": "ZNozPD5XOk1L"
      },
      "source": [
        "The accuracy on those 1000 images is 96%, which is really good considering\n",
        "that we only showed the network each image only once.\n",
        "\n",
        "However, this accuracy is not representative of how well the network is doing,\n",
        "because the network was *trained* on the data. The network had a chance to\n",
        "see the actual answer, and learn from that answer. To get a better sense of\n",
        "the network's predictive accuracy, we should compute accuracy numbers on\n",
        "a **test set**: a set of images that were not seen in training."
      ]
    },
    {
      "cell_type": "markdown",
      "metadata": {
        "id": "VplQogR24Aue"
      },
      "source": [
        "### 6)b) Validation of Network on Testing Data"
      ]
    },
    {
      "cell_type": "code",
      "execution_count": null,
      "metadata": {
        "id": "blrK9sxS4IX5"
      },
      "outputs": [],
      "source": [
        "# computing the error and accuracy on a test set\n",
        "error = 0\n",
        "for (image, label) in mnist_train[1000:2000]:\n",
        "    prob = torch.sigmoid(pigeon(img_to_tensor(image)))\n",
        "    if (prob < 0.5 and label < 3) or (prob >= 0.5 and label >= 3):\n",
        "        error += 1\n",
        "print(\"Test Error Rate:\", error/1000)\n",
        "print(\"Test Accuracy:\", 1 - error/1000)"
      ]
    }
  ],
  "metadata": {
    "colab": {
      "collapsed_sections": [],
      "name": "S22_Tut_1_Artificial_Pigeon_Brain.ipynb",
      "provenance": []
    },
    "kernelspec": {
      "display_name": "Python 3",
      "language": "python",
      "name": "python3"
    },
    "language_info": {
      "codemirror_mode": {
        "name": "ipython",
        "version": 3
      },
      "file_extension": ".py",
      "mimetype": "text/x-python",
      "name": "python",
      "nbconvert_exporter": "python",
      "pygments_lexer": "ipython3",
      "version": "3.10.6"
    }
  },
  "nbformat": 4,
  "nbformat_minor": 0
}
