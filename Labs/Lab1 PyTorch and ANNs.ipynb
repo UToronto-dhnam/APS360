{
 "cells": [
  {
   "cell_type": "markdown",
   "metadata": {
    "id": "3sxa8YxCbzGL"
   },
   "source": [
    "# Lab 1. PyTorch and ANNs\n",
    "\n",
    "This lab is a warm up to get you used to the PyTorch programming environment used\n",
    "in the course, and also to help you review and renew your knowledge\n",
    "of Python and relevant Python libraries.\n",
    "The lab must be done individually. Please recall that the\n",
    "University of Toronto plagarism rules apply.\n",
    "\n",
    "By the end of this lab, you should be able to:\n",
    "\n",
    "1. Be able to perform basic PyTorch tensor operations.\n",
    "2. Be able to load data into PyTorch\n",
    "3. Be able to configure an Artificial Neural Network (ANN) using PyTorch\n",
    "4. Be able to train ANNs using PyTorch\n",
    "5. Be able to evaluate different ANN configuations\n",
    "\n",
    "You will need to use numpy and PyTorch documentations for this assignment:\n",
    "\n",
    "* https://docs.scipy.org/doc/numpy/reference/\n",
    "* https://pytorch.org/docs/stable/torch.html\n",
    "\n",
    "You can also reference Python API documentations freely.\n",
    "\n",
    "\n",
    "### What to submit\n",
    "\n",
    "Submit a PDF file containing all your code, outputs, and write-up\n",
    "from parts 1-5. You can produce a PDF of your Google Colab file by\n",
    "going to `File -> Print` and then save as PDF. The Colab instructions\n",
    "has more information.\n",
    "\n",
    "**Do not submit any other files produced by your code.**\n",
    "\n",
    "Include a link to your colab file in your submission.\n",
    "\n",
    "Please use Google Colab to complete this assignment. If you want to use Jupyter Notebook, please complete the assignment and upload your Jupyter Notebook file to Google Colab for submission. \n",
    "\n",
    "**Adjust the scaling to ensure that the text is not cutoff at the margins.**"
   ]
  },
  {
   "cell_type": "markdown",
   "metadata": {
    "id": "_TlLBrWBIGt0"
   },
   "source": [
    "## Colab Link\n",
    "\n",
    "Submit make sure to include a link to your colab file here\n",
    "\n",
    "Colab Link: "
   ]
  },
  {
   "cell_type": "markdown",
   "metadata": {
    "id": "mALD3Y2bbzGT"
   },
   "source": [
    "## Part 1. Python Basics [3 pt]\n",
    "\n",
    "The purpose of this section is to get you used to the \n",
    "basics of Python, including working with functions, numbers,\n",
    "lists, and strings.\n",
    "\n",
    "Note that we **will** be checking your code for clarity and efficiency.\n",
    "\n",
    "If you have trouble with this part of the assignment, please review http://cs231n.github.io/python-numpy-tutorial/"
   ]
  },
  {
   "cell_type": "markdown",
   "metadata": {
    "id": "7gimRTE9bzGa"
   },
   "source": [
    "### Part (a) -- 1pt\n",
    "\n",
    "Write a function `sum_of_cubes` that computes the sum of cubes up to `n`. If the input to `sum_of_cubes` invalid (e.g. negative or non-integer `n`), the function should print out `\"Invalid input\"` and return `-1`."
   ]
  },
  {
   "cell_type": "code",
   "execution_count": 2,
   "metadata": {
    "collapsed": true,
    "id": "fifG_Wv6bzGf",
    "jupyter": {
     "outputs_hidden": true
    }
   },
   "outputs": [],
   "source": [
    "def sum_of_cubes(n):\n",
    "    \"\"\"Return the sum (1^3 + 2^3 + 3^3 + ... + n^3)\n",
    "    \n",
    "    Precondition: n > 0, type(n) == int\n",
    "    \n",
    "    >>> sum_of_cubes(3)\n",
    "    36\n",
    "    >>> sum_of_cubes(1)\n",
    "    1\n",
    "    \"\"\"\n",
    "    return sum([i**3 for i in range(1, n+1)])\n"
   ]
  },
  {
   "cell_type": "markdown",
   "metadata": {
    "id": "bOxDP8AlbzG2"
   },
   "source": [
    "### Part (b) -- 1pt\n",
    "\n",
    "Write a function `word_lengths` that takes a sentence (string), computes the length of each word in that sentence, and returns the length of each word in a list. You can\n",
    "assume that words are always separated by a space character `\" \"`.\n",
    "\n",
    "Hint: recall the `str.split` function in Python.\n",
    "If you arenot sure how this function works, try\n",
    "typing `help(str.split)` into a Python shell, or check out https://docs.python.org/3.6/library/stdtypes.html#str.split"
   ]
  },
  {
   "cell_type": "code",
   "execution_count": 3,
   "metadata": {
    "collapsed": true,
    "id": "H84jlGrVbzG5",
    "jupyter": {
     "outputs_hidden": true
    }
   },
   "outputs": [
    {
     "name": "stdout",
     "output_type": "stream",
     "text": [
      "Help on method_descriptor:\n",
      "\n",
      "split(self, /, sep=None, maxsplit=-1)\n",
      "    Return a list of the substrings in the string, using sep as the separator string.\n",
      "    \n",
      "      sep\n",
      "        The separator used to split the string.\n",
      "    \n",
      "        When set to None (the default value), will split on any whitespace\n",
      "        character (including \\\\n \\\\r \\\\t \\\\f and spaces) and will discard\n",
      "        empty strings from the result.\n",
      "      maxsplit\n",
      "        Maximum number of splits (starting from the left).\n",
      "        -1 (the default value) means no limit.\n",
      "    \n",
      "    Note, str.split() is mainly useful for data that has been intentionally\n",
      "    delimited.  With natural text that includes punctuation, consider using\n",
      "    the regular expression module.\n",
      "\n"
     ]
    }
   ],
   "source": [
    "help(str.split)"
   ]
  },
  {
   "cell_type": "code",
   "execution_count": 4,
   "metadata": {
    "collapsed": true,
    "id": "w1lbnwgsbzHG",
    "jupyter": {
     "outputs_hidden": true
    }
   },
   "outputs": [],
   "source": [
    "def word_lengths(sentence):\n",
    "    \"\"\"Return a list containing the length of each word in\n",
    "    sentence.\n",
    "    \n",
    "    >>> word_lengths(\"welcome to APS360!\")\n",
    "    [7, 2, 7]\n",
    "    >>> word_lengths(\"machine learning is so cool\")\n",
    "    [7, 8, 2, 2, 4]\n",
    "    \"\"\"\n",
    "    return [len(word) for word in sentence.split()]"
   ]
  },
  {
   "cell_type": "markdown",
   "metadata": {
    "id": "iCsnzu4NIGuD"
   },
   "source": [
    "### Part (c) -- 1pt\n",
    "\n",
    "Write a function `all_same_length` that takes a sentence (string),\n",
    "and checks whether every word in the string is the same length.\n",
    "You should call the function `word_lengths` in the body\n",
    "of this new function.\n"
   ]
  },
  {
   "cell_type": "code",
   "execution_count": 5,
   "metadata": {
    "collapsed": true,
    "id": "Z-7qytZEIGuE",
    "jupyter": {
     "outputs_hidden": true
    }
   },
   "outputs": [],
   "source": [
    "def all_same_length(sentence):\n",
    "    \"\"\"Return True if every word in sentence has the same\n",
    "    length, and False otherwise.\n",
    "    \n",
    "    >>> all_same_length(\"all same length\")\n",
    "    False\n",
    "    >>> word_lengths(\"hello world\")\n",
    "    True\n",
    "    \"\"\"\n",
    "    lengths = word_lengths(sentence)\n",
    "    return len(set(lengths)) == 1"
   ]
  },
  {
   "cell_type": "markdown",
   "metadata": {
    "id": "yUh1MySTbzHT"
   },
   "source": [
    "## Part 2. NumPy Exercises [5 pt]\n",
    "\n",
    "In this part of the assignment, you'll be manipulating arrays \n",
    "usign NumPy. Normally, we use the shorter name `np` to represent\n",
    "the package `numpy`."
   ]
  },
  {
   "cell_type": "code",
   "execution_count": 6,
   "metadata": {
    "collapsed": true,
    "id": "H2opcxqMbzHW",
    "jupyter": {
     "outputs_hidden": true
    }
   },
   "outputs": [],
   "source": [
    "import numpy as np"
   ]
  },
  {
   "cell_type": "markdown",
   "metadata": {
    "id": "Ek29jdqPbzHf"
   },
   "source": [
    "### Part (a) -- 1pt\n",
    "\n",
    "The below variables `matrix` and `vector` are numpy arrays. Explain what you think `<NumpyArray>.size` and `<NumpyArray>.shape` represent."
   ]
  },
  {
   "cell_type": "code",
   "execution_count": 7,
   "metadata": {
    "collapsed": true,
    "id": "Z6eniOV2bzHi",
    "jupyter": {
     "outputs_hidden": true
    }
   },
   "outputs": [],
   "source": [
    "matrix = np.array([[1., 2., 3., 0.5],\n",
    "                   [4., 5., 0., 0.],\n",
    "                   [-1., -2., 1., 1.]])\n",
    "vector = np.array([2., 0., 1., -2.])"
   ]
  },
  {
   "cell_type": "code",
   "execution_count": 8,
   "metadata": {
    "collapsed": true,
    "id": "JMIy15dKIGuP",
    "jupyter": {
     "outputs_hidden": true
    }
   },
   "outputs": [
    {
     "data": {
      "text/plain": [
       "'\\nMatrix size represents the number of elements in the matrix, which is 12.\\n'"
      ]
     },
     "execution_count": 8,
     "metadata": {},
     "output_type": "execute_result"
    }
   ],
   "source": [
    "matrix.size\n",
    "\"\"\"\n",
    "Matrix size represents the number of elements in the matrix, which is 12.\n",
    "\"\"\""
   ]
  },
  {
   "cell_type": "code",
   "execution_count": 9,
   "metadata": {
    "collapsed": true,
    "id": "QoHaPzDNbzHo",
    "jupyter": {
     "outputs_hidden": true
    },
    "scrolled": true
   },
   "outputs": [
    {
     "data": {
      "text/plain": [
       "'\\nMatrix shape represents the number of rows and columns (dimensions) in the matrix, which is (3, 4).\\n'"
      ]
     },
     "execution_count": 9,
     "metadata": {},
     "output_type": "execute_result"
    }
   ],
   "source": [
    "matrix.shape\n",
    "\"\"\"\n",
    "Matrix shape represents the number of rows and columns (dimensions) in the matrix, which is (3, 4).\n",
    "\"\"\""
   ]
  },
  {
   "cell_type": "code",
   "execution_count": 10,
   "metadata": {
    "collapsed": true,
    "id": "dErt6w25bzHu",
    "jupyter": {
     "outputs_hidden": true
    }
   },
   "outputs": [
    {
     "data": {
      "text/plain": [
       "'\\nVector size represents the number of elements in the vector, which is 4.\\n'"
      ]
     },
     "execution_count": 10,
     "metadata": {},
     "output_type": "execute_result"
    }
   ],
   "source": [
    "vector.size\n",
    "\"\"\"\n",
    "Vector size represents the number of elements in the vector, which is 4.\n",
    "\"\"\""
   ]
  },
  {
   "cell_type": "code",
   "execution_count": 11,
   "metadata": {
    "collapsed": true,
    "id": "TXhHCchIIGua",
    "jupyter": {
     "outputs_hidden": true
    }
   },
   "outputs": [
    {
     "data": {
      "text/plain": [
       "'\\nVector shape represents the number of rows and columns (dimensions) in the vector, which is (4,).\\n'"
      ]
     },
     "execution_count": 11,
     "metadata": {},
     "output_type": "execute_result"
    }
   ],
   "source": [
    "vector.shape\n",
    "\"\"\"\n",
    "Vector shape represents the number of rows and columns (dimensions) in the vector, which is (4,).\n",
    "\"\"\""
   ]
  },
  {
   "cell_type": "markdown",
   "metadata": {
    "id": "9PQ-pRIlbzH8"
   },
   "source": [
    "### Part (b) -- 1pt\n",
    "\n",
    "Perform matrix multiplication `output = matrix x vector` by using\n",
    "for loops to iterate through the columns and rows.\n",
    "Do not use any builtin NumPy functions.\n",
    "Cast your output into a NumPy array, if it isn't one already.\n",
    "\n",
    "Hint: be mindful of the dimension of output"
   ]
  },
  {
   "cell_type": "code",
   "execution_count": 12,
   "metadata": {
    "collapsed": true,
    "id": "SXnZFii2bzH-",
    "jupyter": {
     "outputs_hidden": true
    }
   },
   "outputs": [],
   "source": [
    "output = np.zeros(matrix.shape[0])\n",
    "\n",
    "for i in range(matrix.shape[0]):\n",
    "    for j in range(matrix.shape[1]):\n",
    "        output[i] += matrix[i][j] * vector[j]"
   ]
  },
  {
   "cell_type": "code",
   "execution_count": 13,
   "metadata": {
    "collapsed": true,
    "id": "BiIVqVvvbzII",
    "jupyter": {
     "outputs_hidden": true
    }
   },
   "outputs": [
    {
     "data": {
      "text/plain": [
       "array([ 4.,  8., -3.])"
      ]
     },
     "execution_count": 13,
     "metadata": {},
     "output_type": "execute_result"
    }
   ],
   "source": [
    "output"
   ]
  },
  {
   "cell_type": "markdown",
   "metadata": {
    "id": "O5UhbilNbzIP"
   },
   "source": [
    "### Part (c) -- 1pt\n",
    "\n",
    "Perform matrix multiplication `output2 = matrix x vector` by using\n",
    "the function `numpy.dot`.\n",
    "\n",
    "We will never actually write code as in\n",
    "part(d), not only because `numpy.dot` is more concise and easier to read/write, but also performance-wise `numpy.dot` is much faster (it is written in C and highly optimized).\n",
    "In general, we will avoid for loops in our code."
   ]
  },
  {
   "cell_type": "code",
   "execution_count": 14,
   "metadata": {
    "collapsed": true,
    "id": "e8dLVrMEbzIR",
    "jupyter": {
     "outputs_hidden": true
    }
   },
   "outputs": [],
   "source": [
    "output2 = np.dot(matrix, vector)"
   ]
  },
  {
   "cell_type": "code",
   "execution_count": 15,
   "metadata": {
    "collapsed": true,
    "id": "X1LqY1eKbzIV",
    "jupyter": {
     "outputs_hidden": true
    }
   },
   "outputs": [
    {
     "data": {
      "text/plain": [
       "array([ 4.,  8., -3.])"
      ]
     },
     "execution_count": 15,
     "metadata": {},
     "output_type": "execute_result"
    }
   ],
   "source": [
    "output2"
   ]
  },
  {
   "cell_type": "markdown",
   "metadata": {
    "id": "77XioX6vbzIb"
   },
   "source": [
    "### Part (d) -- 1pt\n",
    "\n",
    "As a way to test for consistency, show that the two outputs match."
   ]
  },
  {
   "cell_type": "code",
   "execution_count": 16,
   "metadata": {
    "collapsed": true,
    "id": "1Vc-Nvf0bzIc",
    "jupyter": {
     "outputs_hidden": true
    }
   },
   "outputs": [
    {
     "name": "stdout",
     "output_type": "stream",
     "text": [
      "[ True  True  True]\n"
     ]
    }
   ],
   "source": [
    "print(output == output2)"
   ]
  },
  {
   "cell_type": "markdown",
   "metadata": {
    "id": "wjEGmk8oIGur"
   },
   "source": [
    "### Part (e) -- 1pt\n",
    "\n",
    "Show that using `np.dot` is faster than using your code from part (c).\n",
    "\n",
    "You may find the below code snippit helpful:"
   ]
  },
  {
   "cell_type": "code",
   "execution_count": 17,
   "metadata": {
    "collapsed": true,
    "id": "XlnE0XO8IGur",
    "jupyter": {
     "outputs_hidden": true
    }
   },
   "outputs": [
    {
     "data": {
      "text/plain": [
       "5.030632019042969e-05"
      ]
     },
     "execution_count": 17,
     "metadata": {},
     "output_type": "execute_result"
    }
   ],
   "source": [
    "import time\n",
    "\n",
    "# record the time before running code\n",
    "start_time = time.time()\n",
    "\n",
    "# place code to run here\n",
    "for i in range(matrix.shape[0]):\n",
    "    for j in range(matrix.shape[1]):\n",
    "        output[i] += matrix[i][j] * vector[j]\n",
    "    \n",
    "# record the time after the code is run\n",
    "end_time = time.time()\n",
    "\n",
    "# compute the difference\n",
    "diff = end_time - start_time\n",
    "diff"
   ]
  },
  {
   "cell_type": "code",
   "execution_count": 18,
   "metadata": {
    "collapsed": true,
    "id": "0aBOgCJeIGuv",
    "jupyter": {
     "outputs_hidden": true
    }
   },
   "outputs": [
    {
     "data": {
      "text/plain": [
       "4.220008850097656e-05"
      ]
     },
     "execution_count": 18,
     "metadata": {},
     "output_type": "execute_result"
    }
   ],
   "source": [
    "start_time2 = time.time()\n",
    "\n",
    "# place code to run here\n",
    "np.dot(matrix, vector)\n",
    "    \n",
    "# record the time after the code is run\n",
    "end_time2 = time.time()\n",
    "\n",
    "# compute the difference\n",
    "diff2 = end_time2 - start_time2\n",
    "diff2"
   ]
  },
  {
   "cell_type": "markdown",
   "metadata": {
    "id": "LbKJjoHHbzI4"
   },
   "source": [
    "## Part 3. Images [6 pt]\n",
    "\n",
    "A picture or image can be represented as a NumPy array of “pixels”, \n",
    "with dimensions H × W × C, where H is the height of the image, W is the width of the image,\n",
    "and C is the number of colour channels. Typically we will use an image with channels that give the the Red, Green, and Blue “level” of each pixel, which is referred to with the short form RGB.\n",
    "\n",
    "You will write Python code to load an image, and perform several array manipulations to the image and visualize their effects. "
   ]
  },
  {
   "cell_type": "code",
   "execution_count": 19,
   "metadata": {
    "collapsed": true,
    "id": "FRGQKpEgbzI4",
    "jupyter": {
     "outputs_hidden": true
    }
   },
   "outputs": [],
   "source": [
    "import matplotlib.pyplot as plt"
   ]
  },
  {
   "cell_type": "markdown",
   "metadata": {
    "id": "p1D5mtCubzI6"
   },
   "source": [
    "### Part (a) -- 1 pt\n",
    "\n",
    "This is a photograph of a dog whose name is Mochi.\n",
    "\n",
    "![alt text](https://drive.google.com/uc?export=view&id=1oaLVR2hr1_qzpKQ47i9rVUIklwbDcews)\n",
    "\n",
    "Load the image from its url (https://drive.google.com/uc?export=view&id=1oaLVR2hr1_qzpKQ47i9rVUIklwbDcews) into the variable `img` using the `plt.imread` function.\n",
    "\n",
    "Hint: You can enter the URL directly into the `plt.imread` function as a Python string."
   ]
  },
  {
   "cell_type": "code",
   "execution_count": 20,
   "metadata": {
    "collapsed": true,
    "id": "RB8lf73vbzI7",
    "jupyter": {
     "outputs_hidden": true
    }
   },
   "outputs": [
    {
     "ename": "ValueError",
     "evalue": "Please open the URL for reading and pass the result to Pillow, e.g. with ``np.array(PIL.Image.open(urllib.request.urlopen(url)))``.",
     "output_type": "error",
     "traceback": [
      "\u001b[0;31m---------------------------------------------------------------------------\u001b[0m",
      "\u001b[0;31mValueError\u001b[0m                                Traceback (most recent call last)",
      "\u001b[1;32m/Users/dhnam/Desktop/School/uoft/APS360/Labs/Lab1 PyTorch and ANNs.ipynb Cell 33\u001b[0m line \u001b[0;36m<cell line: 1>\u001b[0;34m()\u001b[0m\n\u001b[0;32m----> <a href='vscode-notebook-cell:/Users/dhnam/Desktop/School/uoft/APS360/Labs/Lab1%20PyTorch%20and%20ANNs.ipynb#X44sZmlsZQ%3D%3D?line=0'>1</a>\u001b[0m img \u001b[39m=\u001b[39m plt\u001b[39m.\u001b[39;49mimread(\u001b[39m'\u001b[39;49m\u001b[39mhttps://doc-0o-4o-docs.googleusercontent.com/docs/securesc/kiv3851ngp4vlm8j7h61ahuqs0nat84t/c96p6gvu1mird3aeo5jsm85v0q4ic275/1696299675000/01969731268135239355/10075795281673414582/1oaLVR2hr1_qzpKQ47i9rVUIklwbDcews?e=view&ax=AA75yW61eKUX6CIgWN_-V4MfqkkAL2OSwaCijaH025vXH7_dX_15nZTht1NFh4cyKE0zwyzVtYNb_kWt7TEvOmX2n-l7eKkZ6tgd0Gp1WDNvChsWt2BLJ-RpN9u2vHQhhqGhVirOyfefqPOwEcwLCAyLT_eYN7dwB8H3CU9n6qRBdk3VN7ayy5RcwCT4nqj8_QaSm57Qh_Vxwqo-Z0U4lIj56-cScIAVm_KWwA6YrVjLwaFbtDxJhms-5sYL-otq_yiUw5uBJGIzQ4GLJs2g51_SFLDmVZLmO7tai2cT4onkRjc1uzcYfD6vRpYGsnRTff3iAw52kGj0r2f9EsSEY9hoXHkQxGQ3Dx4mPLLxG0vuLeWejDMUO-fsyxE6buwAPss6n0YlpeagrVyb0ueGIX5swcjSmCaac1s27ZxCDPAHBMTNb251uDl7H0QrkvBCvMDTPhBKYHQIGWx8QK3mkmkvthb10nPXK8WrzB9k5nLP__OpCWCzHAsB_Z-9NkBZZH1xpAsZGPlx3CFGY5ht7I0ocdsZu99P5tM4G3moESq6g0M4ah-BZs-A8-_FOUMEEonyvpj4d0xF4tojOT9NrWLlRuO9GB_iFCjVwZxr83WJ1-2vzraqff7FHK147-rsQnz0A8jhOA45g1bj8cFE2OAWr3Lo_Jrie4erokfJyAvr-QIeyVzocNGm60x8naNYD27n_j9iLovrtDQgPkPwBGwLPc6cBqvQ7l5otxO9H7M4vw0c0gserabbJzk6wK0oPMgciSa0GR_yWCLQO84lTyXdmpkh58WtZcuhGoso5FB-GZN7XfTE8li6Cv8bkKF7gPmG3WbZFVEXRqAO460cgKJNkdM-7iPZ1GU4VUg7s-FVgWMBkr_v2o7oMvQHHEt4Bo3z_JETkz7LnufO7pEI3Xd2Y6NJYce2HO-KjKKP&uuid=b88d65d7-58cd-4630-bdbd-04fe4fd81c93&authuser=1&nonce=qgolojpk2dj4c&user=10075795281673414582&hash=fe7mb2p5e89rq7j50ku83i48kfeditb6\u001b[39;49m\u001b[39m'\u001b[39;49m)\n",
      "File \u001b[0;32m/Library/Frameworks/Python.framework/Versions/3.10/lib/python3.10/site-packages/matplotlib/pyplot.py:2123\u001b[0m, in \u001b[0;36mimread\u001b[0;34m(fname, format)\u001b[0m\n\u001b[1;32m   2121\u001b[0m \u001b[39m@_copy_docstring_and_deprecators\u001b[39m(matplotlib\u001b[39m.\u001b[39mimage\u001b[39m.\u001b[39mimread)\n\u001b[1;32m   2122\u001b[0m \u001b[39mdef\u001b[39;00m \u001b[39mimread\u001b[39m(fname, \u001b[39mformat\u001b[39m\u001b[39m=\u001b[39m\u001b[39mNone\u001b[39;00m):\n\u001b[0;32m-> 2123\u001b[0m     \u001b[39mreturn\u001b[39;00m matplotlib\u001b[39m.\u001b[39;49mimage\u001b[39m.\u001b[39;49mimread(fname, \u001b[39mformat\u001b[39;49m)\n",
      "File \u001b[0;32m/Library/Frameworks/Python.framework/Versions/3.10/lib/python3.10/site-packages/matplotlib/image.py:1536\u001b[0m, in \u001b[0;36mimread\u001b[0;34m(fname, format)\u001b[0m\n\u001b[1;32m   1532\u001b[0m img_open \u001b[39m=\u001b[39m (\n\u001b[1;32m   1533\u001b[0m     PIL\u001b[39m.\u001b[39mPngImagePlugin\u001b[39m.\u001b[39mPngImageFile \u001b[39mif\u001b[39;00m ext \u001b[39m==\u001b[39m \u001b[39m'\u001b[39m\u001b[39mpng\u001b[39m\u001b[39m'\u001b[39m \u001b[39melse\u001b[39;00m PIL\u001b[39m.\u001b[39mImage\u001b[39m.\u001b[39mopen)\n\u001b[1;32m   1534\u001b[0m \u001b[39mif\u001b[39;00m \u001b[39misinstance\u001b[39m(fname, \u001b[39mstr\u001b[39m) \u001b[39mand\u001b[39;00m \u001b[39mlen\u001b[39m(parse\u001b[39m.\u001b[39murlparse(fname)\u001b[39m.\u001b[39mscheme) \u001b[39m>\u001b[39m \u001b[39m1\u001b[39m:\n\u001b[1;32m   1535\u001b[0m     \u001b[39m# Pillow doesn't handle URLs directly.\u001b[39;00m\n\u001b[0;32m-> 1536\u001b[0m     \u001b[39mraise\u001b[39;00m \u001b[39mValueError\u001b[39;00m(\n\u001b[1;32m   1537\u001b[0m         \u001b[39m\"\u001b[39m\u001b[39mPlease open the URL for reading and pass the \u001b[39m\u001b[39m\"\u001b[39m\n\u001b[1;32m   1538\u001b[0m         \u001b[39m\"\u001b[39m\u001b[39mresult to Pillow, e.g. with \u001b[39m\u001b[39m\"\u001b[39m\n\u001b[1;32m   1539\u001b[0m         \u001b[39m\"\u001b[39m\u001b[39m``np.array(PIL.Image.open(urllib.request.urlopen(url)))``.\u001b[39m\u001b[39m\"\u001b[39m\n\u001b[1;32m   1540\u001b[0m         )\n\u001b[1;32m   1541\u001b[0m \u001b[39mwith\u001b[39;00m img_open(fname) \u001b[39mas\u001b[39;00m image:\n\u001b[1;32m   1542\u001b[0m     \u001b[39mreturn\u001b[39;00m (_pil_png_to_float_array(image)\n\u001b[1;32m   1543\u001b[0m             \u001b[39mif\u001b[39;00m \u001b[39misinstance\u001b[39m(image, PIL\u001b[39m.\u001b[39mPngImagePlugin\u001b[39m.\u001b[39mPngImageFile) \u001b[39melse\u001b[39;00m\n\u001b[1;32m   1544\u001b[0m             pil_to_array(image))\n",
      "\u001b[0;31mValueError\u001b[0m: Please open the URL for reading and pass the result to Pillow, e.g. with ``np.array(PIL.Image.open(urllib.request.urlopen(url)))``."
     ]
    }
   ],
   "source": [
    "img = plt.imread('https://doc-0o-4o-docs.googleusercontent.com/docs/securesc/kiv3851ngp4vlm8j7h61ahuqs0nat84t/c96p6gvu1mird3aeo5jsm85v0q4ic275/1696299675000/01969731268135239355/10075795281673414582/1oaLVR2hr1_qzpKQ47i9rVUIklwbDcews?e=view&ax=AA75yW61eKUX6CIgWN_-V4MfqkkAL2OSwaCijaH025vXH7_dX_15nZTht1NFh4cyKE0zwyzVtYNb_kWt7TEvOmX2n-l7eKkZ6tgd0Gp1WDNvChsWt2BLJ-RpN9u2vHQhhqGhVirOyfefqPOwEcwLCAyLT_eYN7dwB8H3CU9n6qRBdk3VN7ayy5RcwCT4nqj8_QaSm57Qh_Vxwqo-Z0U4lIj56-cScIAVm_KWwA6YrVjLwaFbtDxJhms-5sYL-otq_yiUw5uBJGIzQ4GLJs2g51_SFLDmVZLmO7tai2cT4onkRjc1uzcYfD6vRpYGsnRTff3iAw52kGj0r2f9EsSEY9hoXHkQxGQ3Dx4mPLLxG0vuLeWejDMUO-fsyxE6buwAPss6n0YlpeagrVyb0ueGIX5swcjSmCaac1s27ZxCDPAHBMTNb251uDl7H0QrkvBCvMDTPhBKYHQIGWx8QK3mkmkvthb10nPXK8WrzB9k5nLP__OpCWCzHAsB_Z-9NkBZZH1xpAsZGPlx3CFGY5ht7I0ocdsZu99P5tM4G3moESq6g0M4ah-BZs-A8-_FOUMEEonyvpj4d0xF4tojOT9NrWLlRuO9GB_iFCjVwZxr83WJ1-2vzraqff7FHK147-rsQnz0A8jhOA45g1bj8cFE2OAWr3Lo_Jrie4erokfJyAvr-QIeyVzocNGm60x8naNYD27n_j9iLovrtDQgPkPwBGwLPc6cBqvQ7l5otxO9H7M4vw0c0gserabbJzk6wK0oPMgciSa0GR_yWCLQO84lTyXdmpkh58WtZcuhGoso5FB-GZN7XfTE8li6Cv8bkKF7gPmG3WbZFVEXRqAO460cgKJNkdM-7iPZ1GU4VUg7s-FVgWMBkr_v2o7oMvQHHEt4Bo3z_JETkz7LnufO7pEI3Xd2Y6NJYce2HO-KjKKP&uuid=b88d65d7-58cd-4630-bdbd-04fe4fd81c93&authuser=1&nonce=qgolojpk2dj4c&user=10075795281673414582&hash=fe7mb2p5e89rq7j50ku83i48kfeditb6')"
   ]
  },
  {
   "cell_type": "markdown",
   "metadata": {
    "id": "mNli5OsbbzI9"
   },
   "source": [
    "### Part (b) -- 1pt\n",
    "\n",
    "Use the function `plt.imshow` to visualize `img`. \n",
    "\n",
    "This function will also show the coordinate system used to identify pixels.\n",
    "The origin is at the top left corner, and the first dimension indicates the Y (row) direction, \n",
    "and the second dimension indicates the X (column) dimension."
   ]
  },
  {
   "cell_type": "code",
   "execution_count": null,
   "metadata": {
    "collapsed": true,
    "id": "lEeHKc_abzI9",
    "jupyter": {
     "outputs_hidden": true
    }
   },
   "outputs": [],
   "source": [
    "plt.imshow(img)"
   ]
  },
  {
   "cell_type": "markdown",
   "metadata": {
    "id": "pB-Hx-OFbzJC"
   },
   "source": [
    "### Part (c) -- 2pt\n",
    "\n",
    "Modify the image by adding a constant value of 0.25 to each pixel in the `img` and\n",
    "store the result in the variable `img_add`. Note that, since the range for the pixels \n",
    "needs to be between [0, 1], you will also need to clip img_add to be in the range [0, 1] \n",
    "using `numpy.clip`. Clipping sets any value that is outside of the desired range to the \n",
    "closest endpoint. Display the image using `plt.imshow`."
   ]
  },
  {
   "cell_type": "code",
   "execution_count": null,
   "metadata": {
    "collapsed": true,
    "id": "GWBhZay2bzJC",
    "jupyter": {
     "outputs_hidden": true
    }
   },
   "outputs": [],
   "source": [
    "img_add = None"
   ]
  },
  {
   "cell_type": "markdown",
   "metadata": {
    "id": "DeinKXBCbzJI"
   },
   "source": [
    "### Part (d) -- 2pt\n",
    "\n",
    "Crop the **original** image (`img` variable) to a 130 x 150 image including Mochi's face. Discard the alpha colour channel (i.e. resulting `img_cropped` should **only have RGB channels**)\n",
    "\n",
    "Display the image."
   ]
  },
  {
   "cell_type": "markdown",
   "metadata": {
    "id": "FmfE9CQdIGva"
   },
   "source": [
    "## Part 4. Basics of PyTorch [6 pt]\n",
    "\n",
    "PyTorch is a Python-based neural networks package. Along with tensorflow, PyTorch is currently one of the most popular machine learning libraries.\n",
    "\n",
    "PyTorch, at its core, is similar to Numpy in a sense that they both \n",
    "try to make it easier to write codes for scientific computing\n",
    "achieve improved performance over vanilla Python by leveraging highly optimized C back-end.\n",
    "However, compare to Numpy, PyTorch offers much better GPU support and provides many high-level features for machine learning. Technically, Numpy can be used to perform almost every thing PyTorch does. However, Numpy would be a lot slower than PyTorch, especially with CUDA GPU, and it would take more effort to write machine learning related code compared to using PyTorch."
   ]
  },
  {
   "cell_type": "code",
   "execution_count": null,
   "metadata": {
    "collapsed": true,
    "id": "ppRPK-X2IGvb",
    "jupyter": {
     "outputs_hidden": true
    }
   },
   "outputs": [],
   "source": [
    "import torch"
   ]
  },
  {
   "cell_type": "markdown",
   "metadata": {
    "id": "DXrczIrSIGvf"
   },
   "source": [
    "### Part (a) -- 1 pt\n",
    "\n",
    "Use the function `torch.from_numpy` to convert the numpy array `img_cropped` into\n",
    "a PyTorch tensor. Save the result in a variable called `img_torch`."
   ]
  },
  {
   "cell_type": "code",
   "execution_count": null,
   "metadata": {
    "collapsed": true,
    "id": "j9rYyf4gIGvj",
    "jupyter": {
     "outputs_hidden": true
    }
   },
   "outputs": [],
   "source": [
    "img_torch = torch.from_numpy(img)"
   ]
  },
  {
   "cell_type": "markdown",
   "metadata": {
    "id": "zrpPeRKtIGvn"
   },
   "source": [
    "### Part (b) -- 1pt\n",
    "\n",
    "Use the method `<Tensor>.shape` to find the shape (dimension and size) of `img_torch`."
   ]
  },
  {
   "cell_type": "code",
   "execution_count": null,
   "metadata": {
    "collapsed": true,
    "id": "ws7G_aaxIGvn",
    "jupyter": {
     "outputs_hidden": true
    }
   },
   "outputs": [],
   "source": []
  },
  {
   "cell_type": "markdown",
   "metadata": {
    "id": "uorV8t1pIGvp"
   },
   "source": [
    "### Part (c) -- 1pt\n",
    "\n",
    "How many floating-point numbers are stored in the tensor `img_torch`?"
   ]
  },
  {
   "cell_type": "code",
   "execution_count": null,
   "metadata": {
    "collapsed": true,
    "id": "sucaE_VCIGvq",
    "jupyter": {
     "outputs_hidden": true
    }
   },
   "outputs": [],
   "source": []
  },
  {
   "cell_type": "markdown",
   "metadata": {
    "id": "sIcXGdg5IGvu"
   },
   "source": [
    "### Part (d) -- 1 pt\n",
    "\n",
    "What does the code `img_torch.transpose(0,2)` do? What does the expression return? \n",
    "Is the original variable `img_torch` updated? Explain."
   ]
  },
  {
   "cell_type": "code",
   "execution_count": null,
   "metadata": {
    "collapsed": true,
    "id": "omOJqIhEIGvu",
    "jupyter": {
     "outputs_hidden": true
    }
   },
   "outputs": [],
   "source": []
  },
  {
   "cell_type": "markdown",
   "metadata": {
    "id": "lHrzC0EqIGvx"
   },
   "source": [
    "### Part (e) -- 1 pt\n",
    "\n",
    "What does the code `img_torch.unsqueeze(0)` do? What does the expression return? \n",
    "Is the original variable `img_torch` updated? Explain."
   ]
  },
  {
   "cell_type": "code",
   "execution_count": null,
   "metadata": {
    "collapsed": true,
    "id": "ZFePj7E5IGvz",
    "jupyter": {
     "outputs_hidden": true
    }
   },
   "outputs": [],
   "source": []
  },
  {
   "cell_type": "markdown",
   "metadata": {
    "id": "re16jTB9IGv0"
   },
   "source": [
    "### Part (f) -- 1 pt\n",
    "\n",
    "Find the maximum value of `img_torch` along each colour channel? Your output should be a one-dimensional\n",
    "PyTorch tensor with exactly three values.\n",
    "\n",
    "Hint: lookup the function `torch.max`."
   ]
  },
  {
   "cell_type": "markdown",
   "metadata": {
    "id": "3hhA2sX0au0D"
   },
   "source": [
    "## Part 5. Training an ANN [10 pt]\n",
    "\n",
    "The sample code provided below is a 2-layer ANN trained on the MNIST dataset to identify digits less than 3 or greater than and equal to 3. Modify the code by changing any of the following and observe how the accuracy and error are affected:\n",
    "\n",
    "- number of training iterations\n",
    "- number of hidden units\n",
    "- numbers of layers\n",
    "- types of activation functions\n",
    "- learning rate\n",
    "\n",
    "Please select at least three different options from the list above. For each option, please select two to three different parameters and provide a table. \n"
   ]
  },
  {
   "cell_type": "code",
   "execution_count": null,
   "metadata": {
    "collapsed": true,
    "id": "GGtthiz1tDh5",
    "jupyter": {
     "outputs_hidden": true
    }
   },
   "outputs": [],
   "source": [
    "import torch\n",
    "import torch.nn as nn\n",
    "import torch.nn.functional as F\n",
    "from torchvision import datasets, transforms\n",
    "import matplotlib.pyplot as plt # for plotting\n",
    "import torch.optim as optim\n",
    "\n",
    "torch.manual_seed(1) # set the random seed\n",
    "\n",
    "# define a 2-layer artificial neural network\n",
    "class Pigeon(nn.Module):\n",
    "    def __init__(self):\n",
    "        super(Pigeon, self).__init__()\n",
    "        self.layer1 = nn.Linear(28 * 28, 30)\n",
    "        self.layer2 = nn.Linear(30, 1)\n",
    "    def forward(self, img):\n",
    "        flattened = img.view(-1, 28 * 28)\n",
    "        activation1 = self.layer1(flattened)\n",
    "        activation1 = F.relu(activation1)\n",
    "        activation2 = self.layer2(activation1)\n",
    "        return activation2\n",
    "\n",
    "pigeon = Pigeon()\n",
    "\n",
    "# load the data\n",
    "mnist_data = datasets.MNIST('data', train=True, download=True)\n",
    "mnist_data = list(mnist_data)\n",
    "mnist_train = mnist_data[:1000]\n",
    "mnist_val   = mnist_data[1000:2000]\n",
    "img_to_tensor = transforms.ToTensor()\n",
    "      \n",
    "    \n",
    "# simplified training code to train `pigeon` on the \"small digit recognition\" task\n",
    "criterion = nn.BCEWithLogitsLoss()\n",
    "optimizer = optim.SGD(pigeon.parameters(), lr=0.005, momentum=0.9)\n",
    "\n",
    "for (image, label) in mnist_train:\n",
    "    # actual ground truth: is the digit less than 3?\n",
    "    actual = torch.tensor(label < 3).reshape([1,1]).type(torch.FloatTensor)\n",
    "    # pigeon prediction\n",
    "    out = pigeon(img_to_tensor(image)) # step 1-2\n",
    "    # update the parameters based on the loss\n",
    "    loss = criterion(out, actual)      # step 3\n",
    "    loss.backward()                    # step 4 (compute the updates for each parameter)\n",
    "    optimizer.step()                   # step 4 (make the updates for each parameter)\n",
    "    optimizer.zero_grad()              # a clean up step for PyTorch\n",
    "\n",
    "# computing the error and accuracy on the training set\n",
    "error = 0\n",
    "for (image, label) in mnist_train:\n",
    "    prob = torch.sigmoid(pigeon(img_to_tensor(image)))\n",
    "    if (prob < 0.5 and label < 3) or (prob >= 0.5 and label >= 3):\n",
    "        error += 1\n",
    "print(\"Training Error Rate:\", error/len(mnist_train))\n",
    "print(\"Training Accuracy:\", 1 - error/len(mnist_train))\n",
    "\n",
    "\n",
    "# computing the error and accuracy on a test set\n",
    "error = 0\n",
    "for (image, label) in mnist_val:\n",
    "    prob = torch.sigmoid(pigeon(img_to_tensor(image)))\n",
    "    if (prob < 0.5 and label < 3) or (prob >= 0.5 and label >= 3):\n",
    "        error += 1\n",
    "print(\"Test Error Rate:\", error/len(mnist_val))\n",
    "print(\"Test Accuracy:\", 1 - error/len(mnist_val))"
   ]
  },
  {
   "cell_type": "markdown",
   "metadata": {
    "id": "viYKlFupcgF3"
   },
   "source": [
    "### Part (a) -- 3 pt\n",
    "Comment on which of the above changes resulted in the best accuracy on training data? What accuracy were you able to achieve?"
   ]
  },
  {
   "cell_type": "code",
   "execution_count": null,
   "metadata": {
    "collapsed": true,
    "id": "FMgRXRqiqAEx",
    "jupyter": {
     "outputs_hidden": true
    }
   },
   "outputs": [],
   "source": []
  },
  {
   "cell_type": "markdown",
   "metadata": {
    "id": "pi6bWs7jcIem"
   },
   "source": [
    "### Part (b) -- 3 pt\n",
    "\n",
    "\n",
    "Comment on which of the above changes resulted in the best accuracy on testing data? What accuracy were you able to achieve?"
   ]
  },
  {
   "cell_type": "code",
   "execution_count": null,
   "metadata": {
    "collapsed": true,
    "id": "QtyIrtuNqAh0",
    "jupyter": {
     "outputs_hidden": true
    }
   },
   "outputs": [],
   "source": []
  },
  {
   "cell_type": "markdown",
   "metadata": {
    "id": "j7W2k347wFqo"
   },
   "source": [
    "### Part (c) -- 4 pt\n",
    "Which model hyperparameters should you use, the ones from (a) or (b)?"
   ]
  },
  {
   "cell_type": "code",
   "execution_count": null,
   "metadata": {
    "collapsed": true,
    "id": "nuESNMuewOnT",
    "jupyter": {
     "outputs_hidden": true
    }
   },
   "outputs": [],
   "source": []
  }
 ],
 "metadata": {
  "colab": {
   "collapsed_sections": [],
   "name": "Lab_1_PyTorch_and_ANNs_Winter_2022 (2).ipynb",
   "provenance": []
  },
  "kernelspec": {
   "display_name": "Python 3 (ipykernel)",
   "language": "python",
   "name": "python3"
  },
  "language_info": {
   "codemirror_mode": {
    "name": "ipython",
    "version": 3
   },
   "file_extension": ".py",
   "mimetype": "text/x-python",
   "name": "python",
   "nbconvert_exporter": "python",
   "pygments_lexer": "ipython3",
   "version": "3.10.6"
  }
 },
 "nbformat": 4,
 "nbformat_minor": 4
}
